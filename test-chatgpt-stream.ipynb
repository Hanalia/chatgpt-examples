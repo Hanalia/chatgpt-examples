{
 "cells": [
  {
   "cell_type": "markdown",
   "metadata": {},
   "source": [
    "## Stream  직접 구현해보기\n",
    "\n",
    "- OpenAI의 기본 모듈을 이용하면 Stream이 얼마나 까다로운지 잘 분간이 안감\n",
    "- 실제로 어떤 형태로 구현되는지 직접 코드를 작성해보면 내부 논리/로직을 파악할 수 있음\n",
    "- Stream은 generator의 일종, 그래서 이 Stream object를 for chunk in stream 형태로 순회를 해줘야 그 안에 있는 정보를 빼올 수 있음\n"
   ]
  },
  {
   "cell_type": "code",
   "execution_count": 2,
   "metadata": {},
   "outputs": [
    {
     "name": "stdout",
     "output_type": "stream",
     "text": [
      "Certainly! Here’s a three-paragraph text for you:\n",
      "\n",
      "---\n",
      "\n",
      "In today's fast-paced world, the significance of mindfulness has become increasingly apparent. Mindfulness is the practice of being present and fully engaged in the moment, without judgment or distraction. This approach to life has roots in ancient meditation traditions, but its principles have been adopted in modern psychology and wellness practices. By cultivating mindfulness, individuals can alleviate stress, enhance emotional well-being, and develop a greater appreciation for the small joys in life.\n",
      "\n",
      "Incorporating mindfulness into daily routines does not have to be complicated. Simple practices, such as mindful breathing or taking a few moments to observe one's surroundings, can create a profound impact. Many find that dedicating a few minutes each day to mindfulness exercises helps ground them in the present, reducing anxiety about the future and regrets about the past. These small acts of awareness can lead to significant changes in perspective, enabling individuals to navigate challenges with greater clarity and calmness.\n",
      "\n",
      "Furthermore, mindfulness extends beyond individual practice; it can foster better relationships and communication. By being present with others, we cultivate empathy and active listening, allowing for deeper connections and more meaningful interactions. As society continues to grapple with issues of disconnection and distraction, embracing mindfulness offers a pathway to not only personal growth but also a greater sense of community and belonging. In essence, investing time in mindfulness can enrich not only our own lives but also the lives of those around us.\n",
      "\n",
      "--- \n",
      "\n",
      "Feel free to let me know if you'd like a different topic or any modifications!"
     ]
    }
   ],
   "source": [
    "from openai import OpenAI\n",
    "\n",
    "\n",
    "## Stream을 만드는 여러가지 다양한 방법\n",
    "## 쉬운 방법 : 그냥 OpenAI를 이용하기\n",
    "\n",
    "OPENAI_API_KEY=\"\"\n",
    "\n",
    "\n",
    "## 기본 OpenAI Object을 잉용하는 경우\n",
    "client = OpenAI(api_key=OPENAI_API_KEY)\n",
    "\n",
    "stream = client.chat.completions.create(\n",
    "    model=\"gpt-4o-mini\",\n",
    "\n",
    "    messages=[{\"role\": \"user\", \"content\": \"Say this is a test please give me a thre paragraph\"}],\n",
    "    stream=True,\n",
    ")\n",
    "## stream itself is a generator so we can do chunk in stream\n",
    "for chunk in stream:\n",
    "    if chunk.choices[0].delta.content is not None:\n",
    "        print(chunk.choices[0].delta.content, end=\"\")\n",
    "\n"
   ]
  },
  {
   "cell_type": "code",
   "execution_count": 6,
   "metadata": {},
   "outputs": [
    {
     "name": "stdout",
     "output_type": "stream",
     "text": [
      "This is a test. In a world where technology continuously evolves, the way we communicate and interact has transformed dramatically. Gone are the days when messages took days or weeks to reach their destinations; now, we are connected instantaneously across the globe. This shift not only enhances personal relationships but also influences business operations, social movements, and education. With the click of a button, information can be shared, ideas can be exchanged, and communities can be formed, transcending geographical boundaries.\n",
      "\n",
      "However, this rapid development in communication technology is not without its challenges. The rise of social media has ushered in an era of information overload, where individuals are bombarded with opinions, news, and ads at an unprecedented scale. The potential for misinformation and echo chambers poses a significant risk, as people may find it challenging to discern credible sources from unreliable ones. Mental health implications also arise as the constant connectivity can lead to feelings of isolation and anxiety. Thus, while technology offers many benefits, it also necessitates a critical examination of its effects on society.\n",
      "\n",
      "As we navigate through this digital age, it becomes increasingly important to foster digital literacy and promote healthy communication habits. Education systems must adapt to prepare students for this evolving landscape, teaching them not only how to utilize technology but also how to critically evaluate the information they encounter. Encouraging mindful engagement with technology can help individuals harness its benefits while mitigating potential downsides. Ultimately, striking a balance between connectivity and well-being will enable us to thrive in a world shaped by our increasingly intertwined digital lives."
     ]
    }
   ],
   "source": [
    "\n",
    "\n",
    "\n",
    "# In Python’s typing system, the Generator type from the typing module is used to specify the type of generator functions. The Generator type takes three type parameters:\n",
    "\n",
    "# \t1.\tThe type of values the generator yields.\n",
    "# \t2.\tThe type of values that can be sent to the generator (using the send method).\n",
    "# \t3.\tThe return type of the generator when it terminates.\n",
    "\n",
    "# For the stream_openai_chat function, these types are:\n",
    "\n",
    "# \t1.\tstr: The generator yields strings, as it produces chunks of the response content.\n",
    "# \t2.\tNone: The generator does not accept any values via the send method.\n",
    "# \t3.\tNone: The generator does not return any value when it terminates.\n",
    "\n",
    "# So the correct type hint for this generator function would be Generator[str, None, None]. Here’s the updated code with this explanation:\n",
    "\n",
    "\n",
    "\n",
    "import requests\n",
    "import json\n",
    "from typing import List, Dict, Generator\n",
    "\n",
    "def stream_openai_chat(messages: List[Dict[str, str]]) -> Generator[str, None, None]:\n",
    "    model = \"gpt-4o-mini\"\n",
    "    headers = {\n",
    "        'Content-Type': 'application/json',\n",
    "        'Authorization': f'Bearer {OPENAI_API_KEY}',\n",
    "    }\n",
    "\n",
    "    json_data = {\n",
    "        'model': model,\n",
    "        'stream': True,\n",
    "        'messages': messages,\n",
    "    }\n",
    "\n",
    "    response = requests.post('https://api.openai.com/v1/chat/completions', headers=headers, json=json_data, stream=True)\n",
    "\n",
    "    if response.status_code == 200:\n",
    "        for chunk in response.iter_lines():\n",
    "            if chunk:\n",
    "                chunk_data = chunk.decode('utf-8')\n",
    "                if chunk_data.startswith('data:'):\n",
    "                    chunk_data = chunk_data[len('data:'):].strip()\n",
    "                    if chunk_data != '[DONE]':\n",
    "                        try:\n",
    "                            chunk_json = json.loads(chunk_data)\n",
    "                            if 'choices' in chunk_json:\n",
    "                                delta = chunk_json['choices'][0]['delta']\n",
    "                                if 'content' in delta:\n",
    "                                    yield delta['content']\n",
    "                        except json.JSONDecodeError:\n",
    "                            pass\n",
    "    else:\n",
    "        yield f\"Request failed with status code {response.status_code}\"\n",
    "\n",
    "# Example usage\n",
    "messages = [\n",
    "    {\n",
    "        'role': 'user',\n",
    "        'content': 'Say this is a test please give me a three paragraph text.',\n",
    "    },\n",
    "]\n",
    "\n",
    "for content in stream_openai_chat(messages):\n",
    "    print(content, end='')"
   ]
  },
  {
   "cell_type": "markdown",
   "metadata": {},
   "source": []
  },
  {
   "cell_type": "code",
   "execution_count": null,
   "metadata": {},
   "outputs": [],
   "source": []
  }
 ],
 "metadata": {
  "language_info": {
   "name": "python"
  }
 },
 "nbformat": 4,
 "nbformat_minor": 2
}
